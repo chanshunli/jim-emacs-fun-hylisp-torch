{
 "cells": [
  {
   "cell_type": "code",
   "execution_count": 4,
   "metadata": {},
   "outputs": [],
   "source": [
    "import torch as t\n",
    "from torch import nn as nn\n",
    "from torch.nn import functional as F\n",
    "import numpy as np"
   ]
  },
  {
   "cell_type": "code",
   "execution_count": 5,
   "metadata": {},
   "outputs": [
    {
     "name": "stderr",
     "output_type": "stream",
     "text": [
      "/usr/lib/python3.7/site-packages/torch/nn/functional.py:1397: UserWarning: nn.functional.sigmoid is deprecated. Use torch.sigmoid instead.\n",
      "  warnings.warn(\"nn.functional.sigmoid is deprecated. Use torch.sigmoid instead.\")\n"
     ]
    }
   ],
   "source": [
    "value = np.random.rand(5, 10)\n",
    "value = t.Tensor(value)\n",
    "x = value + 2\n",
    "linear = nn.Linear(10, 1)\n",
    "out = linear(x)\n",
    "out = F.sigmoid(out)"
   ]
  },
  {
   "cell_type": "code",
   "execution_count": 6,
   "metadata": {},
   "outputs": [
    {
     "data": {
      "text/plain": [
       "tensor([[0.7605, 0.1396, 0.2181, 0.5737, 0.2133, 0.5425, 0.5313, 0.6571, 0.3289,\n",
       "         0.1304],\n",
       "        [0.9112, 0.0353, 0.3413, 0.5058, 0.1164, 0.5609, 0.7369, 0.8144, 0.4303,\n",
       "         0.9174],\n",
       "        [0.1025, 0.3142, 0.3064, 0.9592, 0.9474, 0.0839, 0.4320, 0.5806, 0.1276,\n",
       "         0.9723],\n",
       "        [0.3596, 0.7746, 0.7115, 0.7115, 0.8318, 0.6591, 0.4013, 0.1044, 0.0361,\n",
       "         0.8392],\n",
       "        [0.6259, 0.5572, 0.9843, 0.9724, 0.1654, 0.8150, 0.5574, 0.7373, 0.8955,\n",
       "         0.9455]])"
      ]
     },
     "execution_count": 6,
     "metadata": {},
     "output_type": "execute_result"
    }
   ],
   "source": [
    "value"
   ]
  },
  {
   "cell_type": "code",
   "execution_count": 8,
   "metadata": {},
   "outputs": [
    {
     "data": {
      "text/plain": [
       "Linear(in_features=10, out_features=1, bias=True)"
      ]
     },
     "execution_count": 8,
     "metadata": {},
     "output_type": "execute_result"
    }
   ],
   "source": [
    "linear"
   ]
  },
  {
   "cell_type": "code",
   "execution_count": 9,
   "metadata": {},
   "outputs": [
    {
     "data": {
      "text/plain": [
       "tensor([[0.7020],\n",
       "        [0.7406],\n",
       "        [0.7850],\n",
       "        [0.7374],\n",
       "        [0.7459]], grad_fn=<SigmoidBackward>)"
      ]
     },
     "execution_count": 9,
     "metadata": {},
     "output_type": "execute_result"
    }
   ],
   "source": [
    "out"
   ]
  },
  {
   "cell_type": "code",
   "execution_count": null,
   "metadata": {},
   "outputs": [],
   "source": []
  }
 ],
 "metadata": {
  "kernelspec": {
   "display_name": "Python 3",
   "language": "python",
   "name": "python3"
  },
  "language_info": {
   "codemirror_mode": {
    "name": "ipython",
    "version": 3
   },
   "file_extension": ".py",
   "mimetype": "text/x-python",
   "name": "python",
   "nbconvert_exporter": "python",
   "pygments_lexer": "ipython3",
   "version": "3.7.3"
  }
 },
 "nbformat": 4,
 "nbformat_minor": 2
}
